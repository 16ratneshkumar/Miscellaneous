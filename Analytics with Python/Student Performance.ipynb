{
 "cells": [
  {
   "cell_type": "code",
   "execution_count": null,
   "metadata": {},
   "outputs": [],
   "source": [
    "# Import Necessary Libaray\n",
    "import numpy as np\n",
    "import pandas as pd\n",
    "from sklearn.model_selection import train_test_split\n",
    "from sklearn.linear_model import LinearRegression\n",
    "from sklearn.metrics import r2_score\n",
    "\n",
    "# Data Loading\n",
    "df = pd.read_csv('./Student_Performance.csv')\n",
    "\n",
    "# Data Cleaning and Preprocessing\n",
    "df['Extracurricular Activities']=df['Extracurricular Activities'].map({'Yes':True,'No':False})\n",
    "x = df.loc[:,['Hours Studied','Previous Scores','Extracurricular Activities','Sleep Hours','Sample Question Papers Practiced']].values.reshape(-1, 5)\n",
    "y = df.loc[:,\"Performance Index\"].values.reshape(-1,1)\n",
    "\n",
    "\n",
    "# Data Splitting\n",
    "X_train, X_test, y_train, y_test = train_test_split(x,y,test_size=0.25,random_state=42)\n",
    "\n",
    "# Select Model and Training\n",
    "model = LinearRegression()\n",
    "model.fit(X_train,y_train)\n",
    "\n",
    "# Model Testing\n",
    "y_pred = model.predict(X_test)\n",
    "\n",
    "# Model Evalution\n",
    "print(\"The value of the coefficient of determinaton(R^2) is :: \",round(r2_score(y_pred,y_test),3))\n",
    "\n",
    "# User Input and Prediction\n",
    "Hours_Studied = int(input(\"Enter the number of hours you studied: \"))\n",
    "Previous_Scores = int(input(\"Enter your previous year percentage: \"))\n",
    "Extracurricular_Activities = bool(input(\"Did you participate in extracurricular activities (True/False)? \").capitalize())\n",
    "Sleep_Hours = int(input(\"Enter how many hours you sleep: \"))\n",
    "Sample_Question_Papers_Practiced = int(input(\"Enter how many past year question papers you solved: \"))\n",
    "\n",
    "User_input = np.array([Hours_Studied,Previous_Scores,Extracurricular_Activities,Sleep_Hours,Sample_Question_Papers_Practiced]).reshape(-1, 5)\n",
    "User_pred = model.predict(User_input)\n",
    "print(\"Based on this details\",'\\nHours_Studied =',User_input[0][0],'\\nPrevious_Scores =',User_input[0][1],'\\nExtracurricular_Activities =',User_input[0][2],'\\nSleep_Hours =',User_input[0][3],'\\nSample_Question_Papers_Practiced =',User_input[0][4],\"\\nYour Performance Index is:: \",User_pred[0][0])\n"
   ]
  }
 ],
 "metadata": {
  "kernelspec": {
   "display_name": "Python 3",
   "language": "python",
   "name": "python3"
  },
  "language_info": {
   "codemirror_mode": {
    "name": "ipython",
    "version": 3
   },
   "file_extension": ".py",
   "mimetype": "text/x-python",
   "name": "python",
   "nbconvert_exporter": "python",
   "pygments_lexer": "ipython3",
   "version": "3.12.2"
  }
 },
 "nbformat": 4,
 "nbformat_minor": 2
}
